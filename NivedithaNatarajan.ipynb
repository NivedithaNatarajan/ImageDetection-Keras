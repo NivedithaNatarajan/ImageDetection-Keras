{
  "cells": [
    {
      "cell_type": "markdown",
      "metadata": {
        "id": "view-in-github",
        "colab_type": "text"
      },
      "source": [
        "<a href=\"https://colab.research.google.com/github/NivedithaNatarajan/ImageDetection-Keras/blob/main/NivedithaNatarajan.ipynb\" target=\"_parent\"><img src=\"https://colab.research.google.com/assets/colab-badge.svg\" alt=\"Open In Colab\"/></a>"
      ]
    },
    {
      "cell_type": "markdown",
      "metadata": {
        "id": "9rypjK8jx-iz"
      },
      "source": [
        "## Handwritten Image Detection with Keras using MNIST and Fashion MNIST data\n",
        "\n",
        "In this exercise we will work with image data: specifically the famous MNIST and Fashion MNIST data sets.  MNIST data set contains 70,000 images of handwritten digits in grayscale (0=black, 255 = white). Fashion MNIST data set contains 70,000 images of clothing in grayscale (0=black, 255 = white). All the images are 28 pixels by 28 pixels for a total of 784 pixels. \n",
        "We will use a Convolutional Neural Network and compare it with a linear neural network. "
      ]
    },
    {
      "cell_type": "code",
      "execution_count": null,
      "metadata": {
        "id": "8Ck5lhxGx-i0"
      },
      "outputs": [],
      "source": [
        "# Preliminaries\n",
        "\n",
        "from __future__ import print_function\n",
        "\n",
        "import keras\n",
        "import tensorflow as tf\n",
        "from keras.datasets import mnist\n",
        "from keras.models import Sequential\n",
        "from keras.layers import Dense, Dropout, Conv2D, MaxPooling2D, Flatten, AveragePooling2D\n",
        "from tensorflow.keras.optimizers import RMSprop\n",
        "from keras.datasets import fashion_mnist\n",
        "\n",
        "import numpy as np\n",
        "import matplotlib.pyplot as plt\n",
        "%matplotlib inline"
      ]
    },
    {
      "cell_type": "markdown",
      "metadata": {
        "collapsed": true,
        "id": "CmUN9IMvx-i0"
      },
      "source": [
        "Let's explore the dataset a little bit"
      ]
    },
    {
      "cell_type": "code",
      "execution_count": null,
      "metadata": {
        "colab": {
          "base_uri": "https://localhost:8080/"
        },
        "id": "VwVaw1-6x-i1",
        "outputId": "209f1b04-8c48-416c-fad7-a198757cb4d3"
      },
      "outputs": [
        {
          "output_type": "stream",
          "name": "stdout",
          "text": [
            "Downloading data from https://storage.googleapis.com/tensorflow/tf-keras-datasets/mnist.npz\n",
            "11493376/11490434 [==============================] - 0s 0us/step\n",
            "11501568/11490434 [==============================] - 0s 0us/step\n"
          ]
        }
      ],
      "source": [
        "# Load the data, shuffled and split between train and test sets\n",
        "(x_train, y_train), (x_test, y_test) = mnist.load_data()"
      ]
    },
    {
      "cell_type": "code",
      "execution_count": null,
      "metadata": {
        "colab": {
          "base_uri": "https://localhost:8080/"
        },
        "id": "BP_aWuYBx-i1",
        "outputId": "7e0f1e21-a25c-45cb-a2de-c531600cb4f6"
      },
      "outputs": [
        {
          "output_type": "execute_result",
          "data": {
            "text/plain": [
              "(60000, 28, 28)"
            ]
          },
          "metadata": {},
          "execution_count": 3
        }
      ],
      "source": [
        "x_train.shape"
      ]
    },
    {
      "cell_type": "code",
      "execution_count": null,
      "metadata": {
        "colab": {
          "base_uri": "https://localhost:8080/"
        },
        "id": "_ErVi3zwx-i1",
        "outputId": "c6c1e7b7-a482-4571-b9ca-77485ff37a74"
      },
      "outputs": [
        {
          "output_type": "execute_result",
          "data": {
            "text/plain": [
              "array([[  0,   0,   0,   0,   0,   0,   0,   0,   0,   0,   0,   0,   0,\n",
              "          0,   0,   0,   0,   0,   0,   0,   0,   0,   0,   0,   0,   0,\n",
              "          0,   0],\n",
              "       [  0,   0,   0,   0,   0,   0,   0,   0,   0,   0,   0,   0,   0,\n",
              "          0,   0,   0,   0,   0,   0,   0,   0,   0,   0,   0,   0,   0,\n",
              "          0,   0],\n",
              "       [  0,   0,   0,   0,   0,   0,   0,   0,   0,   0,   0,   0,   0,\n",
              "          0,   0,   0,   0,   0,   0,   0,   0,   0,   0,   0,   0,   0,\n",
              "          0,   0],\n",
              "       [  0,   0,   0,   0,   0,   0,   0,   0,   0,   0,   0,   0,   0,\n",
              "          0,   0,   0,   0,   0,   0,   0,   0,   0,   0,   0,   0,   0,\n",
              "          0,   0],\n",
              "       [  0,   0,   0,   0,   0,   0,   0,   0,   0,   0,   0,   0,   0,\n",
              "          0,   0,   0,   0,   0,   0,   0,   0,   0,   0,   0,   0,   0,\n",
              "          0,   0],\n",
              "       [  0,   0,   0,   0,   0,   0,   0,   0,   0,   0,   0,  87, 138,\n",
              "        170, 253, 201, 244, 212, 222, 138,  86,  22,   0,   0,   0,   0,\n",
              "          0,   0],\n",
              "       [  0,   0,   0,   0,   0,   0,   0,   0,   0,   0,  95, 253, 252,\n",
              "        252, 252, 252, 253, 252, 252, 252, 252, 245,  80,   0,   0,   0,\n",
              "          0,   0],\n",
              "       [  0,   0,   0,   0,   0,   0,   0,   0,   0,  68, 246, 205,  69,\n",
              "         69,  69,  69,  69,  69,  69,  69, 205, 253, 240,  50,   0,   0,\n",
              "          0,   0],\n",
              "       [  0,   0,   0,   0,   0,   0,   0,   0,   0, 187, 252, 218,  34,\n",
              "          0,   0,   0,   0,   0,   0,   0, 116, 253, 252,  69,   0,   0,\n",
              "          0,   0],\n",
              "       [  0,   0,   0,   0,   0,   0,   0,   0, 116, 248, 252, 253,  92,\n",
              "          0,   0,   0,   0,   0,   0,  95, 230, 253, 157,   6,   0,   0,\n",
              "          0,   0],\n",
              "       [  0,   0,   0,   0,   0,   0,   0,   0, 116, 249, 253, 189,  42,\n",
              "          0,   0,   0,   0,  36, 170, 253, 243, 158,   0,   0,   0,   0,\n",
              "          0,   0],\n",
              "       [  0,   0,   0,   0,   0,   0,   0,   0,   0, 133, 252, 245, 140,\n",
              "         34,   0,   0,  57, 219, 252, 235,  60,   0,   0,   0,   0,   0,\n",
              "          0,   0],\n",
              "       [  0,   0,   0,   0,   0,   0,   0,   0,   0,  25, 205, 253, 252,\n",
              "        234, 184, 184, 253, 240, 100,  44,   0,   0,   0,   0,   0,   0,\n",
              "          0,   0],\n",
              "       [  0,   0,   0,   0,   0,   0,   0,   0,   0,   0,  21, 161, 219,\n",
              "        252, 252, 252, 234,  37,   0,   0,   0,   0,   0,   0,   0,   0,\n",
              "          0,   0],\n",
              "       [  0,   0,   0,   0,   0,   0,   0,   0,   0,   0,   0,  11, 203,\n",
              "        252, 252, 252, 251, 135,   0,   0,   0,   0,   0,   0,   0,   0,\n",
              "          0,   0],\n",
              "       [  0,   0,   0,   0,   0,   0,   0,   0,   0,   9,  76, 255, 253,\n",
              "        205, 168, 220, 255, 253, 137,   5,   0,   0,   0,   0,   0,   0,\n",
              "          0,   0],\n",
              "       [  0,   0,   0,   0,   0,   0,   0,   0,   0, 114, 252, 249, 132,\n",
              "         25,   0,   0, 180, 252, 252,  45,   0,   0,   0,   0,   0,   0,\n",
              "          0,   0],\n",
              "       [  0,   0,   0,   0,   0,   0,   0,   0,  51, 220, 252, 199,   0,\n",
              "          0,   0,   0,  38, 186, 252, 154,   7,   0,   0,   0,   0,   0,\n",
              "          0,   0],\n",
              "       [  0,   0,   0,   0,   0,   0,   0,   0, 184, 252, 252,  21,   0,\n",
              "          0,   0,   0,   0,  67, 252, 252,  22,   0,   0,   0,   0,   0,\n",
              "          0,   0],\n",
              "       [  0,   0,   0,   0,   0,   0,   0,   0, 184, 252, 200,   0,   0,\n",
              "          0,   0,   0,   0,  47, 252, 252,  22,   0,   0,   0,   0,   0,\n",
              "          0,   0],\n",
              "       [  0,   0,   0,   0,   0,   0,   0,   0, 185, 253, 201,   0,   0,\n",
              "          0,   0,   0,   3, 118, 253, 245,  21,   0,   0,   0,   0,   0,\n",
              "          0,   0],\n",
              "       [  0,   0,   0,   0,   0,   0,   0,   0, 163, 252, 252,   0,   0,\n",
              "          0,   0,   0,  97, 252, 252,  87,   0,   0,   0,   0,   0,   0,\n",
              "          0,   0],\n",
              "       [  0,   0,   0,   0,   0,   0,   0,   0,  51, 240, 252, 123,  70,\n",
              "         70, 112, 184, 222, 252, 170,  13,   0,   0,   0,   0,   0,   0,\n",
              "          0,   0],\n",
              "       [  0,   0,   0,   0,   0,   0,   0,   0,   0, 165, 252, 253, 252,\n",
              "        252, 252, 252, 245, 139,  13,   0,   0,   0,   0,   0,   0,   0,\n",
              "          0,   0],\n",
              "       [  0,   0,   0,   0,   0,   0,   0,   0,   0,   9,  75, 253, 252,\n",
              "        221, 137, 137,  21,   0,   0,   0,   0,   0,   0,   0,   0,   0,\n",
              "          0,   0],\n",
              "       [  0,   0,   0,   0,   0,   0,   0,   0,   0,   0,   0,   0,   0,\n",
              "          0,   0,   0,   0,   0,   0,   0,   0,   0,   0,   0,   0,   0,\n",
              "          0,   0],\n",
              "       [  0,   0,   0,   0,   0,   0,   0,   0,   0,   0,   0,   0,   0,\n",
              "          0,   0,   0,   0,   0,   0,   0,   0,   0,   0,   0,   0,   0,\n",
              "          0,   0],\n",
              "       [  0,   0,   0,   0,   0,   0,   0,   0,   0,   0,   0,   0,   0,\n",
              "          0,   0,   0,   0,   0,   0,   0,   0,   0,   0,   0,   0,   0,\n",
              "          0,   0]], dtype=uint8)"
            ]
          },
          "metadata": {},
          "execution_count": 4
        }
      ],
      "source": [
        "#Let's just look at a particular example to see what is inside\n",
        "\n",
        "x_train[333]  ## Just a 28 x 28 numpy array of ints from 0 to 255"
      ]
    },
    {
      "cell_type": "code",
      "execution_count": null,
      "metadata": {
        "colab": {
          "base_uri": "https://localhost:8080/"
        },
        "id": "ismiOa5dx-i1",
        "outputId": "34ba3e53-2761-43c5-af41-780f4b6715eb"
      },
      "outputs": [
        {
          "output_type": "execute_result",
          "data": {
            "text/plain": [
              "8"
            ]
          },
          "metadata": {},
          "execution_count": 5
        }
      ],
      "source": [
        "# What is the corresponding label in the training set?\n",
        "y_train[333]"
      ]
    },
    {
      "cell_type": "code",
      "execution_count": null,
      "metadata": {
        "colab": {
          "base_uri": "https://localhost:8080/",
          "height": 282
        },
        "id": "S1w6Mjp8x-i1",
        "outputId": "2d7ab388-706f-4f46-f800-7d8cc1d0768d"
      },
      "outputs": [
        {
          "output_type": "execute_result",
          "data": {
            "text/plain": [
              "<matplotlib.image.AxesImage at 0x7f68352728d0>"
            ]
          },
          "metadata": {},
          "execution_count": 6
        },
        {
          "output_type": "display_data",
          "data": {
            "image/png": "[encoded data removed]",
            "text/plain": [
              "<Figure size 432x288 with 1 Axes>"
            ]
          },
          "metadata": {
            "needs_background": "light"
          }
        }
      ],
      "source": [
        "# Let's see what this image actually looks like\n",
        "\n",
        "plt.imshow(x_train[333], cmap='Greys_r')"
      ]
    },
    {
      "cell_type": "code",
      "execution_count": null,
      "metadata": {
        "colab": {
          "base_uri": "https://localhost:8080/"
        },
        "id": "gYsGw3Abx-i1",
        "outputId": "77dcd1c9-5704-40f0-d0fa-9ad279584485"
      },
      "outputs": [
        {
          "output_type": "stream",
          "name": "stdout",
          "text": [
            "(60000, 28, 28) train samples\n",
            "(10000, 28, 28) test samples\n"
          ]
        }
      ],
      "source": [
        "# this is the shape of the np.array x_train\n",
        "# it is 3 dimensional.\n",
        "print(x_train.shape, 'train samples')\n",
        "print(x_test.shape, 'test samples')"
      ]
    },
    {
      "cell_type": "code",
      "execution_count": null,
      "metadata": {
        "colab": {
          "base_uri": "https://localhost:8080/"
        },
        "id": "YJOI1rE0x-i1",
        "outputId": "bcd91499-8dcb-435a-ed31-91cd035c4770"
      },
      "outputs": [
        {
          "output_type": "stream",
          "name": "stdout",
          "text": [
            "(60000, 784) (10000, 784)\n"
          ]
        }
      ],
      "source": [
        "## For our purposes, these images are just a vector of 784 inputs, so let's convert\n",
        "x_train = x_train.reshape(len(x_train), 28*28)\n",
        "x_test = x_test.reshape(len(x_test), 28*28)\n",
        "\n",
        "## Keras works with floats, so we must cast the numbers to floats\n",
        "x_train = x_train.astype('float32')\n",
        "x_test = x_test.astype('float32')\n",
        "\n",
        "## Normalize the inputs so they are between 0 and 1\n",
        "x_train /= 255\n",
        "x_test /= 255\n",
        "\n",
        "print(x_train.shape,x_test.shape)"
      ]
    },
    {
      "cell_type": "code",
      "execution_count": null,
      "metadata": {
        "colab": {
          "base_uri": "https://localhost:8080/"
        },
        "id": "YhGrU7I4zvQC",
        "outputId": "0ba7e6b0-cf7c-4e14-e910-b9c0c244b689"
      },
      "outputs": [
        {
          "output_type": "stream",
          "name": "stdout",
          "text": [
            "(60000,)\n",
            "[5 0 4 1 9 2 1 3 1 4]\n"
          ]
        }
      ],
      "source": [
        "print(y_train.shape)\n",
        "print(y_train[:10])"
      ]
    },
    {
      "cell_type": "code",
      "execution_count": null,
      "metadata": {
        "colab": {
          "base_uri": "https://localhost:8080/"
        },
        "id": "O5_DS1b_x-i1",
        "outputId": "e6b48beb-280e-4cad-a349-4b7df804dd3b"
      },
      "outputs": [
        {
          "output_type": "stream",
          "name": "stdout",
          "text": [
            "(60000, 10) (10000, 10)\n"
          ]
        }
      ],
      "source": [
        "# convert class vectors to binary class matrices\n",
        "num_classes = 10\n",
        "y_train = tf.keras.utils.to_categorical(y_train, num_classes)\n",
        "y_test = tf.keras.utils.to_categorical(y_test, num_classes)\n",
        "print(y_train.shape,y_test.shape)\n",
        "#y_train[333]  # now the digit k is represented by a 1 in the kth entry (0-indexed) of the length 10 vector"
      ]
    },
    {
      "cell_type": "code",
      "execution_count": null,
      "metadata": {
        "id": "7Hi11OgLx-i1"
      },
      "outputs": [],
      "source": [
        "# We will build a model with two hidden layers of size 512\n",
        "# Fully connected inputs at each layer\n",
        "# We will use dropout of .5 to help regularize\n",
        "model_1 = Sequential()\n",
        "model_1.add(Dense(64, activation='relu', input_shape=(784,)))\n",
        "model_1.add(Dropout(0.5))\n",
        "model_1.add(Dense(64, activation='relu'))\n",
        "model_1.add(Dropout(0.5))\n",
        "model_1.add(Dense(10, activation='softmax'))"
      ]
    },
    {
      "cell_type": "code",
      "execution_count": null,
      "metadata": {
        "colab": {
          "base_uri": "https://localhost:8080/"
        },
        "id": "UeaU7ezqx-i2",
        "outputId": "cc1b6ed1-6e2b-4a4c-e7af-3f22d03e735c",
        "scrolled": true
      },
      "outputs": [
        {
          "output_type": "stream",
          "name": "stdout",
          "text": [
            "Model: \"sequential\"\n",
            "_________________________________________________________________\n",
            " Layer (type)                Output Shape              Param #   \n",
            "=================================================================\n",
            " dense (Dense)               (None, 64)                50240     \n",
            "                                                                 \n",
            " dropout (Dropout)           (None, 64)                0         \n",
            "                                                                 \n",
            " dense_1 (Dense)             (None, 64)                4160      \n",
            "                                                                 \n",
            " dropout_1 (Dropout)         (None, 64)                0         \n",
            "                                                                 \n",
            " dense_2 (Dense)             (None, 10)                650       \n",
            "                                                                 \n",
            "=================================================================\n",
            "Total params: 55,050\n",
            "Trainable params: 55,050\n",
            "Non-trainable params: 0\n",
            "_________________________________________________________________\n"
          ]
        }
      ],
      "source": [
        "## Note that this model has a LOT of parameters\n",
        "model_1.summary()"
      ]
    },
    {
      "cell_type": "code",
      "execution_count": null,
      "metadata": {
        "id": "ZQpoEWwex-i2"
      },
      "outputs": [],
      "source": [
        "# Let's compile the model\n",
        "learning_rate = .001\n",
        "model_1.compile(loss='categorical_crossentropy',\n",
        "              optimizer=RMSprop(learning_rate=learning_rate),\n",
        "              metrics=['accuracy'])\n",
        "# note that `categorical cross entropy` is the natural generalization \n",
        "# of the loss function we had in binary classification case, to multi class case"
      ]
    },
    {
      "cell_type": "code",
      "execution_count": null,
      "metadata": {
        "colab": {
          "base_uri": "https://localhost:8080/"
        },
        "id": "McF5oi6-RS0L",
        "outputId": "294c21ef-cb2c-40a9-dd90-b342f17616cf"
      },
      "outputs": [
        {
          "output_type": "stream",
          "name": "stdout",
          "text": [
            "(60000, 784) (60000, 10)\n",
            "(10000, 784) (10000, 10)\n"
          ]
        }
      ],
      "source": [
        "print(x_train.shape,y_train.shape)\n",
        "print(x_test.shape,y_test.shape)"
      ]
    },
    {
      "cell_type": "code",
      "execution_count": null,
      "metadata": {
        "colab": {
          "base_uri": "https://localhost:8080/"
        },
        "id": "RTNxnatHx-i2",
        "outputId": "aa067fe1-4dee-46af-9d75-11a6efcaa59d"
      },
      "outputs": [
        {
          "output_type": "stream",
          "name": "stdout",
          "text": [
            "Epoch 1/30\n",
            "469/469 [==============================] - 5s 6ms/step - loss: 0.8759 - accuracy: 0.7204 - val_loss: 0.2804 - val_accuracy: 0.9188\n",
            "Epoch 2/30\n",
            "469/469 [==============================] - 2s 5ms/step - loss: 0.4791 - accuracy: 0.8609 - val_loss: 0.2315 - val_accuracy: 0.9330\n",
            "Epoch 3/30\n",
            "469/469 [==============================] - 2s 5ms/step - loss: 0.4125 - accuracy: 0.8848 - val_loss: 0.2093 - val_accuracy: 0.9416\n",
            "Epoch 4/30\n",
            "469/469 [==============================] - 2s 5ms/step - loss: 0.3795 - accuracy: 0.8949 - val_loss: 0.1958 - val_accuracy: 0.9442\n",
            "Epoch 5/30\n",
            "469/469 [==============================] - 2s 5ms/step - loss: 0.3574 - accuracy: 0.9024 - val_loss: 0.1898 - val_accuracy: 0.9478\n",
            "Epoch 6/30\n",
            "469/469 [==============================] - 2s 5ms/step - loss: 0.3365 - accuracy: 0.9089 - val_loss: 0.1806 - val_accuracy: 0.9524\n",
            "Epoch 7/30\n",
            "469/469 [==============================] - 2s 5ms/step - loss: 0.3294 - accuracy: 0.9098 - val_loss: 0.1825 - val_accuracy: 0.9545\n",
            "Epoch 8/30\n",
            "469/469 [==============================] - 2s 5ms/step - loss: 0.3236 - accuracy: 0.9121 - val_loss: 0.1650 - val_accuracy: 0.9566\n",
            "Epoch 9/30\n",
            "469/469 [==============================] - 2s 5ms/step - loss: 0.3137 - accuracy: 0.9149 - val_loss: 0.1633 - val_accuracy: 0.9547\n",
            "Epoch 10/30\n",
            "469/469 [==============================] - 2s 5ms/step - loss: 0.3152 - accuracy: 0.9142 - val_loss: 0.1719 - val_accuracy: 0.9555\n",
            "Epoch 11/30\n",
            "469/469 [==============================] - 2s 5ms/step - loss: 0.3094 - accuracy: 0.9170 - val_loss: 0.1615 - val_accuracy: 0.9576\n",
            "Epoch 12/30\n",
            "469/469 [==============================] - 2s 5ms/step - loss: 0.3071 - accuracy: 0.9189 - val_loss: 0.1707 - val_accuracy: 0.9591\n",
            "Epoch 13/30\n",
            "469/469 [==============================] - 2s 5ms/step - loss: 0.3063 - accuracy: 0.9185 - val_loss: 0.1736 - val_accuracy: 0.9578\n",
            "Epoch 14/30\n",
            "469/469 [==============================] - 2s 5ms/step - loss: 0.3037 - accuracy: 0.9195 - val_loss: 0.1700 - val_accuracy: 0.9572\n",
            "Epoch 15/30\n",
            "469/469 [==============================] - 2s 5ms/step - loss: 0.2965 - accuracy: 0.9213 - val_loss: 0.1755 - val_accuracy: 0.9598\n",
            "Epoch 16/30\n",
            "469/469 [==============================] - 2s 5ms/step - loss: 0.3052 - accuracy: 0.9203 - val_loss: 0.1728 - val_accuracy: 0.9594\n",
            "Epoch 17/30\n",
            "469/469 [==============================] - 2s 5ms/step - loss: 0.2954 - accuracy: 0.9217 - val_loss: 0.1681 - val_accuracy: 0.9611\n",
            "Epoch 18/30\n",
            "469/469 [==============================] - 2s 5ms/step - loss: 0.2948 - accuracy: 0.9217 - val_loss: 0.1719 - val_accuracy: 0.9609\n",
            "Epoch 19/30\n",
            "469/469 [==============================] - 2s 5ms/step - loss: 0.2969 - accuracy: 0.9234 - val_loss: 0.1618 - val_accuracy: 0.9616\n",
            "Epoch 20/30\n",
            "469/469 [==============================] - 3s 5ms/step - loss: 0.2941 - accuracy: 0.9224 - val_loss: 0.1760 - val_accuracy: 0.9606\n",
            "Epoch 21/30\n",
            "469/469 [==============================] - 2s 5ms/step - loss: 0.2902 - accuracy: 0.9241 - val_loss: 0.1727 - val_accuracy: 0.9629\n",
            "Epoch 22/30\n",
            "469/469 [==============================] - 3s 5ms/step - loss: 0.2976 - accuracy: 0.9241 - val_loss: 0.1712 - val_accuracy: 0.9618\n",
            "Epoch 23/30\n",
            "469/469 [==============================] - 3s 5ms/step - loss: 0.2959 - accuracy: 0.9235 - val_loss: 0.1768 - val_accuracy: 0.9611\n",
            "Epoch 24/30\n",
            "469/469 [==============================] - 2s 5ms/step - loss: 0.2895 - accuracy: 0.9250 - val_loss: 0.1800 - val_accuracy: 0.9619\n",
            "Epoch 25/30\n",
            "469/469 [==============================] - 3s 5ms/step - loss: 0.2954 - accuracy: 0.9224 - val_loss: 0.1891 - val_accuracy: 0.9619\n",
            "Epoch 26/30\n",
            "469/469 [==============================] - 2s 5ms/step - loss: 0.2908 - accuracy: 0.9241 - val_loss: 0.1791 - val_accuracy: 0.9633\n",
            "Epoch 27/30\n",
            "469/469 [==============================] - 2s 5ms/step - loss: 0.2928 - accuracy: 0.9238 - val_loss: 0.1805 - val_accuracy: 0.9616\n",
            "Epoch 28/30\n",
            "469/469 [==============================] - 2s 5ms/step - loss: 0.2917 - accuracy: 0.9259 - val_loss: 0.1943 - val_accuracy: 0.9610\n",
            "Epoch 29/30\n",
            "469/469 [==============================] - 2s 5ms/step - loss: 0.2935 - accuracy: 0.9253 - val_loss: 0.1879 - val_accuracy: 0.9616\n",
            "Epoch 30/30\n",
            "469/469 [==============================] - 2s 5ms/step - loss: 0.2949 - accuracy: 0.9244 - val_loss: 0.1880 - val_accuracy: 0.9606\n"
          ]
        }
      ],
      "source": [
        "# And now let's fit.\n",
        "\n",
        "batch_size = 128  # mini-batch with 128 examples\n",
        "epochs = 30\n",
        "history = model_1.fit(\n",
        "    x_train, y_train,\n",
        "    batch_size=batch_size,\n",
        "    epochs=epochs,\n",
        "    verbose=1,\n",
        "    validation_data=(x_test, y_test))"
      ]
    },
    {
      "cell_type": "code",
      "execution_count": null,
      "metadata": {
        "colab": {
          "base_uri": "https://localhost:8080/"
        },
        "id": "FvVUGskRx-i3",
        "outputId": "ed9f2052-db63-4277-9f45-4cf257db3f99"
      },
      "outputs": [
        {
          "output_type": "stream",
          "name": "stdout",
          "text": [
            "Test loss: 0.1880219727754593\n",
            "Test accuracy: 0.9606000185012817\n"
          ]
        }
      ],
      "source": [
        "## We will use Keras evaluate function to evaluate performance on the test set\n",
        "\n",
        "score = model_1.evaluate(x_test, y_test, verbose=0)\n",
        "print('Test loss:', score[0])\n",
        "print('Test accuracy:', score[1])"
      ]
    },
    {
      "cell_type": "code",
      "execution_count": null,
      "metadata": {
        "colab": {
          "base_uri": "https://localhost:8080/",
          "height": 336
        },
        "id": "VPI3N4GRx-i3",
        "outputId": "6a40bcb5-bcd5-4aee-ee2b-86c2386f6df5"
      },
      "outputs": [
        {
          "output_type": "display_data",
          "data": {
            "image/png": "[encoded data removed]",
            "text/plain": [
              "<Figure size 720x360 with 2 Axes>"
            ]
          },
          "metadata": {
            "needs_background": "light"
          }
        }
      ],
      "source": [
        "def plot_loss_accuracy(history):\n",
        "    fig = plt.figure(figsize=(10, 5))\n",
        "    ax = fig.add_subplot(1, 2, 1)\n",
        "    ax.plot(history.history[\"loss\"],'r-x', label=\"Train Loss\")\n",
        "    ax.plot(history.history[\"val_loss\"],'b-x', label=\"Validation Loss\")\n",
        "    ax.legend()\n",
        "    ax.set_title('cross_entropy loss')\n",
        "    ax.grid(True)\n",
        "\n",
        "    ax = fig.add_subplot(1, 2, 2)\n",
        "    ax.plot(history.history[\"accuracy\"],'r-x', label=\"Train Accuracy\")\n",
        "    ax.plot(history.history[\"val_accuracy\"],'b-x', label=\"Validation Accuracy\")\n",
        "    ax.legend()\n",
        "    ax.set_title('accuracy')\n",
        "    ax.grid(True)\n",
        "    \n",
        "plot_loss_accuracy(history)"
      ]
    },
    {
      "cell_type": "markdown",
      "metadata": {
        "id": "2s2kCIVAx-i3"
      },
      "source": [
        "This is reasonably good performance, but we can do even better!  Next you will build an even bigger network and compare the performance."
      ]
    },
    {
      "cell_type": "code",
      "execution_count": null,
      "metadata": {
        "colab": {
          "base_uri": "https://localhost:8080/"
        },
        "id": "PKIu3rx2x-i4",
        "outputId": "0dc0543b-2f13-42ef-eb61-9f996dc3a0f9"
      },
      "outputs": [
        {
          "output_type": "execute_result",
          "data": {
            "text/plain": [
              "((60000, 28, 28), (10000, 28, 28))"
            ]
          },
          "metadata": {},
          "execution_count": 18
        }
      ],
      "source": [
        "# Data is currently flattened i.e. m X 784, we need to reshape it back to 28 * 28. To do that we reshape the data.\n",
        "\n",
        "x_train = np.reshape(x_train, [-1, 28, 28])\n",
        "x_test = np.reshape(x_test, [-1, 28, 28])\n",
        "x_train.shape, x_test.shape"
      ]
    },
    {
      "cell_type": "code",
      "execution_count": null,
      "metadata": {
        "colab": {
          "base_uri": "https://localhost:8080/"
        },
        "id": "XZzgcE67x-i4",
        "outputId": "f68bfd51-1bce-4705-ad56-12f2a3fc7189"
      },
      "outputs": [
        {
          "output_type": "execute_result",
          "data": {
            "text/plain": [
              "((60000, 32, 32), (10000, 32, 32))"
            ]
          },
          "metadata": {},
          "execution_count": 19
        }
      ],
      "source": [
        "# LeNet requires input of 32 X 32. So, we will pad the train and test images with zeros to increase the size to 32 X 32.\n",
        "\n",
        "x_train=np.pad(x_train, ((0,0), (2,2), (2, 2)), 'constant')\n",
        "x_test=np.pad(x_test, ((0,0), (2,2), (2, 2)), 'constant')\n",
        "x_train.shape, x_test.shape"
      ]
    },
    {
      "cell_type": "code",
      "execution_count": null,
      "metadata": {
        "colab": {
          "base_uri": "https://localhost:8080/"
        },
        "id": "d3AYgmPNx-i4",
        "outputId": "46bd6c1a-0125-4728-d99a-570ee47038c4"
      },
      "outputs": [
        {
          "output_type": "execute_result",
          "data": {
            "text/plain": [
              "((60000, 32, 32, 1), (10000, 32, 32, 1))"
            ]
          },
          "metadata": {},
          "execution_count": 20
        }
      ],
      "source": [
        "# Convolutional model requires input to be of 3 dimensions. We will add a channel dimension to it.\n",
        "\n",
        "x_train = np.reshape(x_train, [-1, 32, 32, 1])\n",
        "x_test = np.reshape(x_test, [-1, 32, 32, 1])\n",
        "x_train.shape, x_test.shape"
      ]
    },
    {
      "cell_type": "markdown",
      "metadata": {
        "id": "emrURETzx-i4"
      },
      "source": [
        "Write your code below"
      ]
    },
    {
      "cell_type": "code",
      "execution_count": null,
      "metadata": {
        "id": "6DxybkNtx-i4"
      },
      "outputs": [],
      "source": [
        "model_2 = Sequential()\n",
        "model_2.add(Conv2D(filters=6, kernel_size=(5,5), strides=1, padding='valid', activation='relu', input_shape=(32, 32, 1)))\n",
        "model_2.add(MaxPooling2D(pool_size=(2,2),strides=2))\n",
        "model_2.add(Conv2D(filters=16,kernel_size=(5,5), strides=1, padding='valid', activation='relu'))\n",
        "model_2.add(MaxPooling2D(pool_size=(2,2),strides=2))\n",
        "model_2.add(Flatten())\n",
        "model_2.add(Dense(units=120, activation='relu'))\n",
        "model_2.add(Dense(units=84,activation='relu'))\n",
        "model_2.add(Dense(units=10,activation='softmax'))"
      ]
    },
    {
      "cell_type": "code",
      "execution_count": null,
      "metadata": {
        "colab": {
          "base_uri": "https://localhost:8080/"
        },
        "id": "mot6ZRhdx-i4",
        "outputId": "dd7f5fac-fc2d-448e-9c7f-b25539313b20"
      },
      "outputs": [
        {
          "output_type": "stream",
          "name": "stdout",
          "text": [
            "Model: \"sequential_1\"\n",
            "_________________________________________________________________\n",
            " Layer (type)                Output Shape              Param #   \n",
            "=================================================================\n",
            " conv2d (Conv2D)             (None, 28, 28, 6)         156       \n",
            "                                                                 \n",
            " max_pooling2d (MaxPooling2D  (None, 14, 14, 6)        0         \n",
            " )                                                               \n",
            "                                                                 \n",
            " conv2d_1 (Conv2D)           (None, 10, 10, 16)        2416      \n",
            "                                                                 \n",
            " max_pooling2d_1 (MaxPooling  (None, 5, 5, 16)         0         \n",
            " 2D)                                                             \n",
            "                                                                 \n",
            " flatten (Flatten)           (None, 400)               0         \n",
            "                                                                 \n",
            " dense_3 (Dense)             (None, 120)               48120     \n",
            "                                                                 \n",
            " dense_4 (Dense)             (None, 84)                10164     \n",
            "                                                                 \n",
            " dense_5 (Dense)             (None, 10)                850       \n",
            "                                                                 \n",
            "=================================================================\n",
            "Total params: 61,706\n",
            "Trainable params: 61,706\n",
            "Non-trainable params: 0\n",
            "_________________________________________________________________\n"
          ]
        }
      ],
      "source": [
        "model_2.build()\n",
        "model_2.summary()"
      ]
    },
    {
      "cell_type": "code",
      "execution_count": null,
      "metadata": {
        "id": "Mm9DZ2YtQvko"
      },
      "outputs": [],
      "source": [
        "# Let's compile the model\n",
        "learning_rate = 0.001\n",
        "model_2.compile(loss='categorical_crossentropy',\n",
        "              optimizer=RMSprop(learning_rate=learning_rate),\n",
        "              metrics=['accuracy'])\n",
        "# note that `categorical cross entropy` is the natural generalization \n",
        "# of the loss function we had in binary classification case, to multi class case\n"
      ]
    },
    {
      "cell_type": "code",
      "execution_count": null,
      "metadata": {
        "colab": {
          "base_uri": "https://localhost:8080/"
        },
        "id": "5iASmwJDRwED",
        "outputId": "48562098-e88c-41c2-aff7-ed6cf6a80507"
      },
      "outputs": [
        {
          "output_type": "stream",
          "name": "stdout",
          "text": [
            "(10000, 32, 32, 1) (10000, 10)\n",
            "(60000, 32, 32, 1) (60000, 10)\n"
          ]
        }
      ],
      "source": [
        "print(x_test.shape,y_test.shape)\n",
        "print(x_train.shape,y_train.shape)"
      ]
    },
    {
      "cell_type": "code",
      "execution_count": null,
      "metadata": {
        "colab": {
          "base_uri": "https://localhost:8080/"
        },
        "id": "LIctae1YPqaf",
        "outputId": "0af8e9e1-5d65-470e-f1e4-936c63def3d7"
      },
      "outputs": [
        {
          "output_type": "stream",
          "name": "stdout",
          "text": [
            "Epoch 1/20\n",
            "469/469 [==============================] - 12s 9ms/step - loss: 0.2994 - accuracy: 0.9074 - val_loss: 0.0697 - val_accuracy: 0.9768\n",
            "Epoch 2/20\n",
            "469/469 [==============================] - 4s 8ms/step - loss: 0.0718 - accuracy: 0.9775 - val_loss: 0.0425 - val_accuracy: 0.9857\n",
            "Epoch 3/20\n",
            "469/469 [==============================] - 4s 8ms/step - loss: 0.0482 - accuracy: 0.9856 - val_loss: 0.0377 - val_accuracy: 0.9888\n",
            "Epoch 4/20\n",
            "469/469 [==============================] - 4s 8ms/step - loss: 0.0365 - accuracy: 0.9885 - val_loss: 0.0282 - val_accuracy: 0.9913\n",
            "Epoch 5/20\n",
            "469/469 [==============================] - 4s 8ms/step - loss: 0.0291 - accuracy: 0.9908 - val_loss: 0.0304 - val_accuracy: 0.9907\n",
            "Epoch 6/20\n",
            "469/469 [==============================] - 4s 8ms/step - loss: 0.0239 - accuracy: 0.9921 - val_loss: 0.0319 - val_accuracy: 0.9901\n",
            "Epoch 7/20\n",
            "469/469 [==============================] - 4s 8ms/step - loss: 0.0201 - accuracy: 0.9937 - val_loss: 0.0282 - val_accuracy: 0.9905\n",
            "Epoch 8/20\n",
            "469/469 [==============================] - 4s 8ms/step - loss: 0.0172 - accuracy: 0.9946 - val_loss: 0.0283 - val_accuracy: 0.9913\n",
            "Epoch 9/20\n",
            "469/469 [==============================] - 4s 8ms/step - loss: 0.0149 - accuracy: 0.9952 - val_loss: 0.0388 - val_accuracy: 0.9881\n",
            "Epoch 10/20\n",
            "469/469 [==============================] - 4s 8ms/step - loss: 0.0127 - accuracy: 0.9959 - val_loss: 0.0321 - val_accuracy: 0.9906\n",
            "Epoch 11/20\n",
            "469/469 [==============================] - 4s 8ms/step - loss: 0.0112 - accuracy: 0.9966 - val_loss: 0.0384 - val_accuracy: 0.9899\n",
            "Epoch 12/20\n",
            "469/469 [==============================] - 4s 8ms/step - loss: 0.0093 - accuracy: 0.9971 - val_loss: 0.0336 - val_accuracy: 0.9906\n",
            "Epoch 13/20\n",
            "469/469 [==============================] - 4s 8ms/step - loss: 0.0084 - accuracy: 0.9973 - val_loss: 0.0445 - val_accuracy: 0.9896\n",
            "Epoch 14/20\n",
            "469/469 [==============================] - 4s 8ms/step - loss: 0.0080 - accuracy: 0.9977 - val_loss: 0.0381 - val_accuracy: 0.9920\n",
            "Epoch 15/20\n",
            "469/469 [==============================] - 4s 8ms/step - loss: 0.0069 - accuracy: 0.9977 - val_loss: 0.0374 - val_accuracy: 0.9903\n",
            "Epoch 16/20\n",
            "469/469 [==============================] - 4s 8ms/step - loss: 0.0059 - accuracy: 0.9981 - val_loss: 0.0433 - val_accuracy: 0.9915\n",
            "Epoch 17/20\n",
            "469/469 [==============================] - 4s 8ms/step - loss: 0.0056 - accuracy: 0.9981 - val_loss: 0.0374 - val_accuracy: 0.9913\n",
            "Epoch 18/20\n",
            "469/469 [==============================] - 4s 8ms/step - loss: 0.0052 - accuracy: 0.9982 - val_loss: 0.0370 - val_accuracy: 0.9925\n",
            "Epoch 19/20\n",
            "469/469 [==============================] - 4s 8ms/step - loss: 0.0048 - accuracy: 0.9984 - val_loss: 0.0437 - val_accuracy: 0.9919\n",
            "Epoch 20/20\n",
            "469/469 [==============================] - 4s 8ms/step - loss: 0.0042 - accuracy: 0.9987 - val_loss: 0.0561 - val_accuracy: 0.9893\n"
          ]
        }
      ],
      "source": [
        "batch_size = 128  # mini-batch with 128 examples\n",
        "epochs = 20\n",
        "history = model_2.fit(\n",
        "    x_train, y_train,\n",
        "    batch_size=batch_size,\n",
        "    epochs=epochs,\n",
        "    verbose=1,\n",
        "    validation_data=(x_test, y_test))"
      ]
    },
    {
      "cell_type": "code",
      "execution_count": null,
      "metadata": {
        "colab": {
          "base_uri": "https://localhost:8080/",
          "height": 305
        },
        "id": "C5yZc7ehldeI",
        "outputId": "7d76e329-ce9a-4eb9-d20c-2f63bd4e15c3"
      },
      "outputs": [
        {
          "output_type": "display_data",
          "data": {
            "image/png": "[encoded data removed]",
            "text/plain": [
              "<Figure size 720x360 with 2 Axes>"
            ]
          },
          "metadata": {
            "needs_background": "light"
          }
        }
      ],
      "source": [
        "plot_loss_accuracy(history)"
      ]
    },
    {
      "cell_type": "code",
      "execution_count": null,
      "metadata": {
        "colab": {
          "base_uri": "https://localhost:8080/"
        },
        "id": "mZlJTm9wkz_V",
        "outputId": "067b87b6-9fd8-4925-9d8e-033f2391b309"
      },
      "outputs": [
        {
          "output_type": "stream",
          "name": "stdout",
          "text": [
            "Test loss: 0.05613116919994354\n",
            "Test accuracy: 0.989300012588501\n"
          ]
        }
      ],
      "source": [
        "score = model_2.evaluate(x_test, y_test, verbose=0)\n",
        "print('Test loss:', score[0])\n",
        "print('Test accuracy:', score[1])"
      ]
    },
    {
      "cell_type": "markdown",
      "metadata": {
        "id": "IGfkDmxgx-i4"
      },
      "source": [
        "# Fashion MNIST\n",
        "We will do the similar things for Fashion MNIST dataset. Fashion MNIST has 10 categories of clothing items:<br>\n",
        "\n",
        "| Label | Description | \n",
        "| --- | --- | \n",
        "| 0 | T-shirt/top |\n",
        "| 1 | Trouser |\n",
        "| 2 | Pullover |\n",
        "| 3 | Dress |\n",
        "| 4 | Coat |\n",
        "| 5 | Sandal |\n",
        "| 6 | Shirt |\n",
        "| 7 | Sneaker |\n",
        "| 8 | Bag |\n",
        "| 9 | Ankle boot |"
      ]
    },
    {
      "cell_type": "code",
      "execution_count": null,
      "metadata": {
        "id": "OiaIMsAfx-i4"
      },
      "outputs": [],
      "source": [
        "# Load the data, shuffled and split between train and test sets\n",
        "(x_train, y_train), (x_test, y_test) = fashion_mnist.load_data()"
      ]
    },
    {
      "cell_type": "code",
      "execution_count": null,
      "metadata": {
        "colab": {
          "base_uri": "https://localhost:8080/"
        },
        "id": "9_0ErEVQx-i4",
        "outputId": "22cbd126-e65e-411c-9d7e-7e981b5a8d1e"
      },
      "outputs": [
        {
          "output_type": "execute_result",
          "data": {
            "text/plain": [
              "(28, 28)"
            ]
          },
          "metadata": {},
          "execution_count": 30
        }
      ],
      "source": [
        "x_train[0].shape"
      ]
    },
    {
      "cell_type": "code",
      "execution_count": null,
      "metadata": {
        "colab": {
          "base_uri": "https://localhost:8080/"
        },
        "id": "be_oFzK6x-i4",
        "outputId": "0a4f118c-5e83-41d7-e103-098273c7ee87"
      },
      "outputs": [
        {
          "output_type": "execute_result",
          "data": {
            "text/plain": [
              "array([[  0,   0,   0,   0,   0,   0,   0,   0,   0,   0,   0,   3,   0,\n",
              "         42,  92,  71, 107,  33,   0,   3,   0,   1,   0,   0,   0,   0,\n",
              "          0,   0],\n",
              "       [  0,   0,   0,   0,   0,   0,   0,   0,   0,   0,   2,   0,  23,\n",
              "        145,   0,   0,   0, 113,  20,   0,   3,   0,   0,   0,   0,   0,\n",
              "          0,   0],\n",
              "       [  0,   0,   0,   0,   0,   0,   0,   0,   0,   0,   0,   0,  89,\n",
              "          8,   0,  10,   0,  36, 104,   0,   2,   0,   0,   0,   0,   0,\n",
              "          0,   0],\n",
              "       [  0,   0,   0,   0,   0,   0,   0,   0,   0,   3,   0,  37,  97,\n",
              "          0,   5,   1,   0,   0, 141,  23,   0,   2,   0,   0,   0,   0,\n",
              "          0,   0],\n",
              "       [  0,   0,   0,   0,   0,   0,   0,   0,   0,   5,   0,  70,  75,\n",
              "          0,   6,   1,   0,   0, 141,  56,   0,   5,   0,   0,   0,   0,\n",
              "          0,   0],\n",
              "       [  0,   0,   0,   0,   0,   0,   0,   0,   0,   6,   0,  85,  57,\n",
              "          0,   5,   1,   1,   0, 126,  62,   0,   6,   0,   0,   0,   0,\n",
              "          0,   0],\n",
              "       [  0,   0,   0,   0,   0,   0,   0,   0,   0,   6,   0,  85,  44,\n",
              "          0,   3,   0,   4,   0, 109,  66,   0,   6,   0,   0,   0,   0,\n",
              "          0,   0],\n",
              "       [  0,   0,   0,   0,   0,   0,   0,   0,   0,   6,   0,  75,  41,\n",
              "          0,   3,   0,   5,   0,  89,  68,   0,   6,   0,   0,   0,   0,\n",
              "          0,   0],\n",
              "       [  0,   0,   0,   0,   0,   0,   0,   0,   0,   5,   0,  71,  44,\n",
              "          0,   3,   0,   6,   0,  74,  69,   0,   6,   0,   0,   0,   0,\n",
              "          0,   0],\n",
              "       [  0,   0,   0,   0,   0,   0,   0,   0,   0,   4,   0,  80,  68,\n",
              "          0,   4,   0,   5,   0,  89,  85,   0,   6,   0,   0,   0,   0,\n",
              "          0,   0],\n",
              "       [  0,   0,   0,   0,   0,   0,   0,   2,   3,   8,   0,  74,  89,\n",
              "          0,  10,   3,  10,   0,  98,  84,   0,  10,   4,   3,   0,   0,\n",
              "          0,   0],\n",
              "       [  0,   0,   0,   0,   0,   0,   0,   0,   0,   0,   0,  30,  80,\n",
              "          0,   0,   0,   0,   0,  69,  37,   0,   0,   0,   0,   0,   0,\n",
              "          0,   0],\n",
              "       [  0,   0,   0,   0,   0,   2,   0,  80, 117, 118,  92, 125, 144,\n",
              "        109, 141, 126, 132, 115, 151, 141, 130, 142, 150,  57,   0,   0,\n",
              "          0,   0],\n",
              "       [  0,   0,   0,   0,   0,   0,   0,  81, 162, 158, 153, 165, 192,\n",
              "        182, 196, 187, 172, 183, 203, 206, 195, 188, 200, 140,   0,   0,\n",
              "          0,   0],\n",
              "       [  0,   0,   0,   0,   0,   0,   0, 114, 158, 169, 164, 164, 196,\n",
              "        183, 177, 168, 163, 174, 195, 198, 195, 174, 170, 142,   0,   0,\n",
              "          0,   0],\n",
              "       [  0,   0,   0,   0,   0,   0,   0, 186, 166, 161, 180, 183, 214,\n",
              "        181, 158, 163, 181, 186, 197, 186, 184, 193, 197,  86,   0,   0,\n",
              "          0,   0],\n",
              "       [  0,   0,   0,   0,   0,   0,   0, 162, 195, 185, 182, 186, 186,\n",
              "        186, 193, 194, 194, 196, 195, 195, 192, 184, 215, 161,   0,   0,\n",
              "          0,   0],\n",
              "       [  0,   0,   0,   0,   0,   0,   0, 165, 233, 219, 230, 235, 230,\n",
              "        228, 229, 229, 221, 218, 217, 215, 212, 204, 221, 160,   0,   0,\n",
              "          0,   0],\n",
              "       [  0,   0,   0,   0,   0,   0, 134, 202, 221, 218, 220, 224, 222,\n",
              "        220, 219, 221, 219, 213, 213, 208, 208, 199, 220, 142,   0,   0,\n",
              "          0,   0],\n",
              "       [  0,   0,   0,   0,   0,  92, 213, 205, 233, 217, 226, 225, 226,\n",
              "        222, 220, 219, 219, 217, 214, 212, 209, 195, 231, 126,   0,   0,\n",
              "          0,   0],\n",
              "       [  0,   0,   0,   0,   0, 120,   0, 187, 247, 221, 224, 225, 222,\n",
              "        218, 219, 219, 219, 216, 214, 212, 210, 197, 246, 130,   0,   0,\n",
              "          0,   0],\n",
              "       [  0,   0,   0,   0,   0,   0,   0, 206, 243, 231, 228, 230, 228,\n",
              "        225, 226, 225, 222, 217, 215, 215, 211, 212, 255, 126,   0,   0,\n",
              "          0,   0],\n",
              "       [  0,   0,   0,   0,   0,  68,   0, 149, 244, 227, 229, 235, 229,\n",
              "        228, 227, 216, 212, 211, 211, 211, 209, 214, 233, 120,   0,   0,\n",
              "          0,   0],\n",
              "       [  0,   0,   0,   0,   0, 117, 124, 151, 242, 232, 238, 237, 232,\n",
              "        230, 226, 216, 213, 215, 211, 208, 206, 214, 232, 114,   0,   0,\n",
              "          0,   0],\n",
              "       [  0,   0,   0,   0,   0,   0, 138, 225, 213, 218, 231, 234, 234,\n",
              "        237, 227, 199, 204, 213, 208, 204, 203, 214, 231, 112,   0,   0,\n",
              "          0,   0],\n",
              "       [  0,   0,   0,   0,   0,   0,  19, 222, 218, 214, 206, 208, 220,\n",
              "        228, 224, 222, 224, 220, 220, 220, 221, 226, 237, 132,   0,   0,\n",
              "          0,   0],\n",
              "       [  0,   0,   0,   0,   0,   0,  56, 211, 230, 229, 227, 197, 173,\n",
              "        193, 240,  50,  50,  58,  55,  56,  59,  57,  70,  11,   0,   0,\n",
              "          0,   0],\n",
              "       [  0,   0,   0,   0,   0,   0,   0,   0,  94, 157, 193, 222, 219,\n",
              "        205, 140,   0,   0,   0,   0,   0,   0,   0,   0,   0,   0,   0,\n",
              "          0,   0]], dtype=uint8)"
            ]
          },
          "metadata": {},
          "execution_count": 67
        }
      ],
      "source": [
        "#Let's just look at a particular example to see what is inside\n",
        "\n",
        "x_train[333]  ## Just a 28 x 28 numpy array of ints from 0 to 255"
      ]
    },
    {
      "cell_type": "code",
      "execution_count": null,
      "metadata": {
        "colab": {
          "base_uri": "https://localhost:8080/"
        },
        "id": "FDdLzWPux-i4",
        "outputId": "915b8bab-64d6-4b20-edf4-175176989c5c"
      },
      "outputs": [
        {
          "output_type": "execute_result",
          "data": {
            "text/plain": [
              "8"
            ]
          },
          "metadata": {},
          "execution_count": 68
        }
      ],
      "source": [
        "# What is the corresponding label in the training set?\n",
        "y_train[333]"
      ]
    },
    {
      "cell_type": "code",
      "execution_count": null,
      "metadata": {
        "colab": {
          "base_uri": "https://localhost:8080/",
          "height": 282
        },
        "id": "FvwNsPR8x-i5",
        "outputId": "b42ab42e-fbce-4668-a129-b7ff61c2526c"
      },
      "outputs": [
        {
          "output_type": "execute_result",
          "data": {
            "text/plain": [
              "<matplotlib.image.AxesImage at 0x7f67b9578b50>"
            ]
          },
          "metadata": {},
          "execution_count": 69
        },
        {
          "output_type": "display_data",
          "data": {
            "image/png": "[encoded data removed]",
            "text/plain": [
              "<Figure size 432x288 with 1 Axes>"
            ]
          },
          "metadata": {
            "needs_background": "light"
          }
        }
      ],
      "source": [
        "# Let's see what this image actually looks like\n",
        "\n",
        "plt.imshow(x_train[333], cmap='Greys_r')"
      ]
    },
    {
      "cell_type": "code",
      "execution_count": null,
      "metadata": {
        "colab": {
          "base_uri": "https://localhost:8080/"
        },
        "id": "74TCB4qux-i5",
        "outputId": "7f173193-5c8c-4898-abf9-95d69678a57e"
      },
      "outputs": [
        {
          "output_type": "stream",
          "name": "stdout",
          "text": [
            "(60000, 28, 28) train samples\n",
            "(10000, 28, 28) test samples\n"
          ]
        }
      ],
      "source": [
        "# this is the shape of the np.array x_train\n",
        "# it is 3 dimensional.\n",
        "print(x_train.shape, 'train samples')\n",
        "print(x_test.shape, 'test samples')"
      ]
    },
    {
      "cell_type": "code",
      "execution_count": null,
      "metadata": {
        "id": "dhHYkxi_x-i5"
      },
      "outputs": [],
      "source": [
        "## For our purposes, these images are just a vector of 784 inputs, so let's convert\n",
        "x_train = x_train.reshape(len(x_train), 28*28)\n",
        "x_test = x_test.reshape(len(x_test), 28*28)\n",
        "\n",
        "## Keras works with floats, so we must cast the numbers to floats\n",
        "x_train = x_train.astype('float32')\n",
        "x_test = x_test.astype('float32')\n",
        "\n",
        "## Normalize the inputs so they are between 0 and 1\n",
        "x_train /= 255\n",
        "x_test /= 255"
      ]
    },
    {
      "cell_type": "code",
      "execution_count": null,
      "metadata": {
        "colab": {
          "base_uri": "https://localhost:8080/"
        },
        "id": "X0bmd22Hx-i5",
        "outputId": "8ed15b25-fdd6-428b-a2ca-31fdf85711b0"
      },
      "outputs": [
        {
          "output_type": "execute_result",
          "data": {
            "text/plain": [
              "array([0., 0., 0., 0., 0., 0., 0., 0., 1., 0.], dtype=float32)"
            ]
          },
          "metadata": {},
          "execution_count": 72
        }
      ],
      "source": [
        "# convert class vectors to binary class matrices\n",
        "num_classes = 10\n",
        "y_train = tf.keras.utils.to_categorical(y_train, num_classes)\n",
        "y_test = tf.keras.utils.to_categorical(y_test, num_classes)\n",
        "\n",
        "y_train[333]  "
      ]
    },
    {
      "cell_type": "markdown",
      "metadata": {
        "id": "5uz-0YsVx-i5"
      },
      "source": [
        "## Reperforming the earlier preprocessing methods"
      ]
    },
    {
      "cell_type": "code",
      "execution_count": null,
      "metadata": {
        "colab": {
          "base_uri": "https://localhost:8080/"
        },
        "id": "ppoRektwx-i5",
        "outputId": "8d9f9677-9cd1-4ff2-dcd5-4fd629c05e74"
      },
      "outputs": [
        {
          "output_type": "execute_result",
          "data": {
            "text/plain": [
              "((60000, 28, 28), (10000, 28, 28))"
            ]
          },
          "metadata": {},
          "execution_count": 73
        }
      ],
      "source": [
        "# Data is currently flattened i.e. m X 784, we need to reshape it back to 28 * 28. To do that we reshape the data.\n",
        "\n",
        "x_train = np.reshape(x_train, [-1, 28, 28])\n",
        "x_test = np.reshape(x_test, [-1, 28, 28])\n",
        "x_train.shape, x_test.shape"
      ]
    },
    {
      "cell_type": "code",
      "execution_count": null,
      "metadata": {
        "colab": {
          "base_uri": "https://localhost:8080/"
        },
        "id": "1DpighSFx-i6",
        "outputId": "82e26959-bebf-4a59-bccc-eff74b7af69f"
      },
      "outputs": [
        {
          "output_type": "execute_result",
          "data": {
            "text/plain": [
              "((60000, 32, 32), (10000, 32, 32))"
            ]
          },
          "metadata": {},
          "execution_count": 74
        }
      ],
      "source": [
        "# LeNet requires input of 32 X 32. So, we will pad the train and test images with zeros to increase the size to 32 X 32.\n",
        "\n",
        "x_train=np.pad(x_train, ((0,0), (2,2), (2, 2)), 'constant')\n",
        "x_test=np.pad(x_test, ((0,0), (2,2), (2, 2)), 'constant')\n",
        "x_train.shape, x_test.shape"
      ]
    },
    {
      "cell_type": "code",
      "execution_count": null,
      "metadata": {
        "colab": {
          "base_uri": "https://localhost:8080/"
        },
        "id": "9YWoreqmx-i6",
        "outputId": "67378d1d-c055-4394-ad54-1d14fa0f0620"
      },
      "outputs": [
        {
          "output_type": "execute_result",
          "data": {
            "text/plain": [
              "((60000, 32, 32, 1), (10000, 32, 32, 1))"
            ]
          },
          "metadata": {},
          "execution_count": 75
        }
      ],
      "source": [
        "# Convolutional model requires input to be of 3 dimensions. We will add a channel dimension to it.\n",
        "\n",
        "x_train = np.reshape(x_train, [-1, 32, 32, 1])\n",
        "x_test = np.reshape(x_test, [-1, 32, 32, 1])\n",
        "x_train.shape, x_test.shape"
      ]
    },
    {
      "cell_type": "code",
      "execution_count": null,
      "metadata": {
        "colab": {
          "base_uri": "https://localhost:8080/"
        },
        "id": "ZpJmXlfdx-i6",
        "outputId": "659a4ebb-59a0-45ff-8050-98c4ddd63521"
      },
      "outputs": [
        {
          "output_type": "stream",
          "name": "stdout",
          "text": [
            "Model: \"sequential_4\"\n",
            "_________________________________________________________________\n",
            " Layer (type)                Output Shape              Param #   \n",
            "=================================================================\n",
            " conv2d_6 (Conv2D)           (None, 28, 28, 5)         130       \n",
            "                                                                 \n",
            " max_pooling2d_6 (MaxPooling  (None, 14, 14, 5)        0         \n",
            " 2D)                                                             \n",
            "                                                                 \n",
            " conv2d_7 (Conv2D)           (None, 10, 10, 10)        1260      \n",
            "                                                                 \n",
            " max_pooling2d_7 (MaxPooling  (None, 5, 5, 10)         0         \n",
            " 2D)                                                             \n",
            "                                                                 \n",
            " flatten_3 (Flatten)         (None, 250)               0         \n",
            "                                                                 \n",
            " dense_12 (Dense)            (None, 120)               30120     \n",
            "                                                                 \n",
            " dropout_6 (Dropout)         (None, 120)               0         \n",
            "                                                                 \n",
            " dense_13 (Dense)            (None, 84)                10164     \n",
            "                                                                 \n",
            " dropout_7 (Dropout)         (None, 84)                0         \n",
            "                                                                 \n",
            " dense_14 (Dense)            (None, 10)                850       \n",
            "                                                                 \n",
            "=================================================================\n",
            "Total params: 42,524\n",
            "Trainable params: 42,524\n",
            "Non-trainable params: 0\n",
            "_________________________________________________________________\n"
          ]
        }
      ],
      "source": [
        "model_3 = Sequential()\n",
        "model_3.add(Conv2D(filters=5, kernel_size=(5,5), padding='valid', activation='relu', input_shape=(32, 32, 1)))\n",
        "model_3.add(MaxPooling2D(pool_size=(2,2),strides=2))\n",
        "model_3.add(Conv2D(filters=10,kernel_size=(5,5), padding='valid', activation='relu'))\n",
        "model_3.add(MaxPooling2D(pool_size=(2,2),strides=2))\n",
        "model_3.add(Flatten())\n",
        "model_3.add(Dense(units=120, activation='relu'))\n",
        "model_3.add(Dropout(0.25))\n",
        "model_3.add(Dense(units=84,activation='relu'))\n",
        "model_3.add(Dropout(0.25))\n",
        "model_3.add(Dense(units=10,activation='softmax'))\n",
        "model_3.build()\n",
        "model_3.summary()"
      ]
    },
    {
      "cell_type": "code",
      "execution_count": null,
      "metadata": {
        "id": "xA2HLAaNx-i6"
      },
      "outputs": [],
      "source": [
        "# Let's compile the model\n",
        "learning_rate = .002\n",
        "model_3.compile(loss='categorical_crossentropy',\n",
        "              optimizer=RMSprop(learning_rate=learning_rate),\n",
        "              metrics=['accuracy'])\n",
        "# note that `categorical cross entropy` is the natural generalization \n",
        "# of the loss function we had in binary classification case, to multi class case"
      ]
    },
    {
      "cell_type": "code",
      "execution_count": null,
      "metadata": {
        "colab": {
          "base_uri": "https://localhost:8080/"
        },
        "id": "ZkZQlKYEste2",
        "outputId": "2db2bd97-8916-4913-d44e-4d69d58309fa"
      },
      "outputs": [
        {
          "output_type": "stream",
          "name": "stdout",
          "text": [
            "Epoch 1/35\n",
            "469/469 [==============================] - 5s 8ms/step - loss: 0.6750 - accuracy: 0.7481 - val_loss: 0.4404 - val_accuracy: 0.8351\n",
            "Epoch 2/35\n",
            "469/469 [==============================] - 4s 8ms/step - loss: 0.4189 - accuracy: 0.8469 - val_loss: 0.3810 - val_accuracy: 0.8568\n",
            "Epoch 3/35\n",
            "469/469 [==============================] - 4s 8ms/step - loss: 0.3577 - accuracy: 0.8703 - val_loss: 0.3419 - val_accuracy: 0.8736\n",
            "Epoch 4/35\n",
            "469/469 [==============================] - 4s 8ms/step - loss: 0.3269 - accuracy: 0.8808 - val_loss: 0.3282 - val_accuracy: 0.8786\n",
            "Epoch 5/35\n",
            "469/469 [==============================] - 4s 8ms/step - loss: 0.3108 - accuracy: 0.8868 - val_loss: 0.3083 - val_accuracy: 0.8867\n",
            "Epoch 6/35\n",
            "469/469 [==============================] - 4s 8ms/step - loss: 0.2973 - accuracy: 0.8924 - val_loss: 0.3218 - val_accuracy: 0.8842\n",
            "Epoch 7/35\n",
            "469/469 [==============================] - 4s 8ms/step - loss: 0.2900 - accuracy: 0.8952 - val_loss: 0.3241 - val_accuracy: 0.8826\n",
            "Epoch 8/35\n",
            "469/469 [==============================] - 4s 8ms/step - loss: 0.2785 - accuracy: 0.8985 - val_loss: 0.3097 - val_accuracy: 0.8879\n",
            "Epoch 9/35\n",
            "469/469 [==============================] - 4s 8ms/step - loss: 0.2735 - accuracy: 0.9011 - val_loss: 0.3122 - val_accuracy: 0.8878\n",
            "Epoch 10/35\n",
            "469/469 [==============================] - 4s 8ms/step - loss: 0.2708 - accuracy: 0.9026 - val_loss: 0.3092 - val_accuracy: 0.8931\n",
            "Epoch 11/35\n",
            "469/469 [==============================] - 4s 8ms/step - loss: 0.2643 - accuracy: 0.9046 - val_loss: 0.3083 - val_accuracy: 0.8902\n",
            "Epoch 12/35\n",
            "469/469 [==============================] - 4s 8ms/step - loss: 0.2626 - accuracy: 0.9051 - val_loss: 0.3221 - val_accuracy: 0.8909\n",
            "Epoch 13/35\n",
            "469/469 [==============================] - 4s 8ms/step - loss: 0.2621 - accuracy: 0.9048 - val_loss: 0.2945 - val_accuracy: 0.8949\n",
            "Epoch 14/35\n",
            "469/469 [==============================] - 4s 8ms/step - loss: 0.2570 - accuracy: 0.9075 - val_loss: 0.3197 - val_accuracy: 0.8893\n",
            "Epoch 15/35\n",
            "469/469 [==============================] - 4s 8ms/step - loss: 0.2546 - accuracy: 0.9087 - val_loss: 0.3250 - val_accuracy: 0.8916\n",
            "Epoch 16/35\n",
            "469/469 [==============================] - 4s 8ms/step - loss: 0.2544 - accuracy: 0.9073 - val_loss: 0.3749 - val_accuracy: 0.8838\n",
            "Epoch 17/35\n",
            "469/469 [==============================] - 4s 8ms/step - loss: 0.2531 - accuracy: 0.9094 - val_loss: 0.3253 - val_accuracy: 0.8941\n",
            "Epoch 18/35\n",
            "469/469 [==============================] - 4s 8ms/step - loss: 0.2528 - accuracy: 0.9096 - val_loss: 0.3105 - val_accuracy: 0.8939\n",
            "Epoch 19/35\n",
            "469/469 [==============================] - 4s 9ms/step - loss: 0.2514 - accuracy: 0.9091 - val_loss: 0.3333 - val_accuracy: 0.8932\n",
            "Epoch 20/35\n",
            "469/469 [==============================] - 4s 8ms/step - loss: 0.2524 - accuracy: 0.9084 - val_loss: 0.3214 - val_accuracy: 0.8921\n",
            "Epoch 21/35\n",
            "469/469 [==============================] - 4s 8ms/step - loss: 0.2516 - accuracy: 0.9103 - val_loss: 0.3315 - val_accuracy: 0.8922\n",
            "Epoch 22/35\n",
            "469/469 [==============================] - 4s 8ms/step - loss: 0.2483 - accuracy: 0.9104 - val_loss: 0.3303 - val_accuracy: 0.8994\n",
            "Epoch 23/35\n",
            "469/469 [==============================] - 4s 8ms/step - loss: 0.2548 - accuracy: 0.9101 - val_loss: 0.3384 - val_accuracy: 0.8832\n",
            "Epoch 24/35\n",
            "469/469 [==============================] - 4s 8ms/step - loss: 0.2500 - accuracy: 0.9106 - val_loss: 0.3138 - val_accuracy: 0.8914\n",
            "Epoch 25/35\n",
            "469/469 [==============================] - 4s 8ms/step - loss: 0.2512 - accuracy: 0.9104 - val_loss: 0.3721 - val_accuracy: 0.8907\n",
            "Epoch 26/35\n",
            "469/469 [==============================] - 4s 8ms/step - loss: 0.2546 - accuracy: 0.9097 - val_loss: 0.4238 - val_accuracy: 0.8921\n",
            "Epoch 27/35\n",
            "469/469 [==============================] - 4s 8ms/step - loss: 0.2528 - accuracy: 0.9101 - val_loss: 0.3628 - val_accuracy: 0.8873\n",
            "Epoch 28/35\n",
            "469/469 [==============================] - 4s 8ms/step - loss: 0.2531 - accuracy: 0.9116 - val_loss: 0.3465 - val_accuracy: 0.8957\n",
            "Epoch 29/35\n",
            "469/469 [==============================] - 4s 8ms/step - loss: 0.2507 - accuracy: 0.9117 - val_loss: 0.3404 - val_accuracy: 0.8859\n",
            "Epoch 30/35\n",
            "469/469 [==============================] - 4s 8ms/step - loss: 0.2536 - accuracy: 0.9103 - val_loss: 0.3299 - val_accuracy: 0.8932\n",
            "Epoch 31/35\n",
            "469/469 [==============================] - 4s 8ms/step - loss: 0.2546 - accuracy: 0.9104 - val_loss: 0.3429 - val_accuracy: 0.8922\n",
            "Epoch 32/35\n",
            "469/469 [==============================] - 4s 8ms/step - loss: 0.2528 - accuracy: 0.9121 - val_loss: 0.3392 - val_accuracy: 0.8941\n",
            "Epoch 33/35\n",
            "469/469 [==============================] - 4s 8ms/step - loss: 0.2548 - accuracy: 0.9093 - val_loss: 0.3289 - val_accuracy: 0.8915\n",
            "Epoch 34/35\n",
            "469/469 [==============================] - 4s 8ms/step - loss: 0.2544 - accuracy: 0.9101 - val_loss: 0.3569 - val_accuracy: 0.8883\n",
            "Epoch 35/35\n",
            "469/469 [==============================] - 4s 8ms/step - loss: 0.2561 - accuracy: 0.9087 - val_loss: 0.3249 - val_accuracy: 0.8910\n"
          ]
        }
      ],
      "source": [
        "batch_size =  128\n",
        "epochs = 35\n",
        "history = model_3.fit(\n",
        "    x_train, y_train,\n",
        "    batch_size=batch_size,\n",
        "    epochs=epochs,\n",
        "    verbose=1,\n",
        "    validation_data=(x_test, y_test))"
      ]
    },
    {
      "cell_type": "code",
      "execution_count": null,
      "metadata": {
        "colab": {
          "base_uri": "https://localhost:8080/",
          "height": 305
        },
        "id": "j5anfH-8s3BX",
        "outputId": "9b446b7f-093c-4b48-eed7-3de2d6b64382"
      },
      "outputs": [
        {
          "output_type": "display_data",
          "data": {
            "image/png": "[encoded data removed]",
            "text/plain": [
              "<Figure size 720x360 with 2 Axes>"
            ]
          },
          "metadata": {
            "needs_background": "light"
          }
        }
      ],
      "source": [
        "plot_loss_accuracy(history)"
      ]
    },
    {
      "cell_type": "code",
      "execution_count": null,
      "metadata": {
        "colab": {
          "base_uri": "https://localhost:8080/"
        },
        "id": "JDUA0mGPs6LP",
        "outputId": "a39ba6bc-29cf-49dd-9660-e4322e96527f"
      },
      "outputs": [
        {
          "output_type": "stream",
          "name": "stdout",
          "text": [
            "Test loss: 0.3248612582683563\n",
            "Test accuracy: 0.890999972820282\n"
          ]
        }
      ],
      "source": [
        "score = model_3.evaluate(x_test, y_test, verbose=0)\n",
        "print('Test loss:', score[0])\n",
        "print('Test accuracy:', score[1])"
      ]
    }
  ],
  "metadata": {
    "accelerator": "GPU",
    "colab": {
      "collapsed_sections": [
        "XOFLazPNx-i3"
      ],
      "name": "NivedithaNatarajan.ipynb",
      "provenance": [],
      "include_colab_link": true
    },
    "kernelspec": {
      "display_name": "Python 3",
      "language": "python",
      "name": "python3"
    },
    "language_info": {
      "codemirror_mode": {
        "name": "ipython",
        "version": 3
      },
      "file_extension": ".py",
      "mimetype": "text/x-python",
      "name": "python",
      "nbconvert_exporter": "python",
      "pygments_lexer": "ipython3",
      "version": "3.6.5"
    }
  },
  "nbformat": 4,
  "nbformat_minor": 0
}